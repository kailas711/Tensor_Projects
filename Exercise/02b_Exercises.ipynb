{
 "cells": [
  {
   "cell_type": "markdown",
   "id": "a133b0b6",
   "metadata": {},
   "source": [
    "# Exercises \n",
    "Take the lessons from the last two notebooks and apply them to the following exercies "
   ]
  },
  {
   "cell_type": "markdown",
   "id": "92308f5c",
   "metadata": {},
   "source": [
    "## Corpus \n",
    "For the following exercies, use this paragraph as the corups:\n",
    "\n",
    "```The use of natural language processing (NLP) is rapidly becoming an integral part of many businesses. NLP is the process of deriving meaning and understanding from text, such as analyzing the sentiment of a customer review or determining the intent of an email response. For instance, a company may use NLP to extract meaningful insights from customer feedback and influence product design decisions. By leveraging the power of NLP, organizations can gain valuable insights into customer thoughts, behaviors, patterns, and preferences. Consequently, NLP is being used in many industries to uncover opportunities for better customer experiences, increased efficiency in operations, improved decision-making, and advanced analytics.```"
   ]
  },
  {
   "cell_type": "code",
   "execution_count": 1,
   "id": "26f32d04",
   "metadata": {},
   "outputs": [],
   "source": [
    "corpus = \"\"\"The use of natural language processing (NLP) is rapidly becoming an integral part of many businesses.\n",
    "NLP is the process of deriving meaning and understanding from text, such as analyzing the sentiment of a customer \n",
    "review or determining the intent of an email response. For instance, a company may use NLP to extract meaningful \n",
    "insights from customer feedback and influence product design decisions. By leveraging the power of NLP, \n",
    "organizations can gain valuable insights into customer thoughts, behaviors, patterns, and preferences. \n",
    "Consequently, NLP is being used in many industries to uncover opportunities for better customer experiences, \n",
    "increased efficiency in operations, improved decision-making, and advanced analytics.\"\"\""
   ]
  },
  {
   "cell_type": "code",
   "execution_count": 2,
   "id": "e33ce60a",
   "metadata": {},
   "outputs": [],
   "source": [
    "import nltk\n",
    "# nltk.download('punkt') # required dependency\n",
    "# nltk.download('stopwords') # required dependency"
   ]
  },
  {
   "cell_type": "markdown",
   "id": "a0351350",
   "metadata": {},
   "source": [
    "Using the corpus defined above, write a function that will:\n",
    "1. Remove all stopwords using the built in `english` stopwords \n",
    "2. Tokenize the corpus using `nltk`'s `word_tokenize`\n",
    "\n",
    "Complete the lines of code designed by the `FILL_IN` keywords"
   ]
  },
  {
   "cell_type": "code",
   "execution_count": 7,
   "id": "ffad3c67",
   "metadata": {},
   "outputs": [],
   "source": [
    "## Fill in code in the appropriate spots\n",
    "from nltk.corpus import stopwords\n",
    "def cleanupDoc(s):\n",
    "     stopset = set(stopwords.words('english'))\n",
    "     cleanup = \" \".join(filter(lambda word: word not in stopset, s.split()))\n",
    "     return cleanup"
   ]
  },
  {
   "cell_type": "code",
   "execution_count": 8,
   "id": "59a4c002",
   "metadata": {},
   "outputs": [
    {
     "name": "stdout",
     "output_type": "stream",
     "text": [
      "The use natural language processing (NLP) rapidly becoming integral part many businesses. NLP process deriving meaning understanding text, analyzing sentiment customer review determining intent email response. For instance, company may use NLP extract meaningful insights customer feedback influence product design decisions. By leveraging power NLP, organizations gain valuable insights customer thoughts, behaviors, patterns, preferences. Consequently, NLP used many industries uncover opportunities better customer experiences, increased efficiency operations, improved decision-making, advanced analytics.\n"
     ]
    }
   ],
   "source": [
    "no_stopwords = cleanupDoc(corpus)\n",
    "print(no_stopwords)"
   ]
  },
  {
   "cell_type": "markdown",
   "id": "7e5d79cc",
   "metadata": {},
   "source": [
    "Using the now clean corpus, leverage the `PorterStemmer` to reduce words to their root"
   ]
  },
  {
   "cell_type": "code",
   "execution_count": 9,
   "id": "41d8ef23",
   "metadata": {},
   "outputs": [],
   "source": [
    "## Fill in code in the appropriate spots\n",
    "import nltk\n",
    "import pprint\n",
    "from nltk.stem import PorterStemmer\n",
    "from functools import reduce\n",
    "\n",
    "def stemmer_(s):\n",
    "    # Tokenize first \n",
    "    tokens = nltk.word_tokenize(s)\n",
    "    # Instantiate an instance of the PorterStemmer\n",
    "    port_stemmer = PorterStemmer()\n",
    "    cleanup = reduce(lambda x, y: x + \" \" + port_stemmer.stem(y), tokens, \"\")\n",
    "    return cleanup"
   ]
  },
  {
   "cell_type": "code",
   "execution_count": 10,
   "id": "d2a009f4",
   "metadata": {},
   "outputs": [
    {
     "data": {
      "text/plain": [
       "' the use natur languag process ( nlp ) rapidli becom integr part mani busi . nlp process deriv mean understand text , analyz sentiment custom review determin intent email respons . for instanc , compani may use nlp extract meaning insight custom feedback influenc product design decis . by leverag power nlp , organ gain valuabl insight custom thought , behavior , pattern , prefer . consequ , nlp use mani industri uncov opportun better custom experi , increas effici oper , improv decision-mak , advanc analyt .'"
      ]
     },
     "execution_count": 10,
     "metadata": {},
     "output_type": "execute_result"
    }
   ],
   "source": [
    "# Apply it to the cleaned corput\n",
    "stemmer_(no_stopwords)"
   ]
  },
  {
   "cell_type": "markdown",
   "id": "56433776",
   "metadata": {},
   "source": [
    "Great! Now that we've got some hadns on practice applying some of these basice text cleaning concepts, let's move on to generating embeddings"
   ]
  }
 ],
 "metadata": {
  "kernelspec": {
   "display_name": "Python 3 (ipykernel)",
   "language": "python",
   "name": "python3"
  },
  "language_info": {
   "codemirror_mode": {
    "name": "ipython",
    "version": 3
   },
   "file_extension": ".py",
   "mimetype": "text/x-python",
   "name": "python",
   "nbconvert_exporter": "python",
   "pygments_lexer": "ipython3",
   "version": "3.10.10"
  }
 },
 "nbformat": 4,
 "nbformat_minor": 5
}
